{
 "cells": [
  {
   "cell_type": "markdown",
   "metadata": {},
   "source": [
    "# Mathématiques - UE 11 - projet numérique - calcul différentiel"
   ]
  },
  {
   "cell_type": "markdown",
   "metadata": {},
   "source": [
    "## Judith BELLON & Louis-Justin TALLOT"
   ]
  },
  {
   "cell_type": "markdown",
   "metadata": {},
   "source": [
    "### Préambule"
   ]
  },
  {
   "cell_type": "markdown",
   "metadata": {},
   "source": [
    "#### Dépendances logicielles"
   ]
  },
  {
   "cell_type": "code",
   "execution_count": null,
   "metadata": {},
   "outputs": [],
   "source": [
    "# Python Standard Library\n",
    "# -----------------------\n",
    "import math"
   ]
  },
  {
   "cell_type": "code",
   "execution_count": null,
   "metadata": {},
   "outputs": [],
   "source": [
    "# Third-Party Libraries\n",
    "# ---------------------\n",
    "\n",
    "# Autograd & Numpy\n",
    "import autograd\n",
    "import autograd.numpy as np\n",
    "\n",
    "# Pandas\n",
    "import pandas as pd\n",
    "\n",
    "# Matplotlib\n",
    "import matplotlib as mpl\n",
    "import matplotlib.pyplot as plt\n",
    "plt.rcParams['figure.figsize'] = [10, 10] # [width, height] (inches). \n",
    "from mpl_toolkits.mplot3d import Axes3D\n",
    "\n",
    "# Jupyter & IPython\n",
    "from IPython.display import display"
   ]
  },
  {
   "cell_type": "markdown",
   "metadata": {},
   "source": [
    "#### Différentiation automatique"
   ]
  },
  {
   "cell_type": "markdown",
   "metadata": {},
   "source": [
    "On définit ici deux fonctions utilitaires, `grad` et `J`, permettant de calculer simplement le gradient d'une fonction scalaire de deux variables réelles et la matrice jacobienne d'une fonction vectorielle de deux variables réelles."
   ]
  },
  {
   "cell_type": "code",
   "execution_count": null,
   "metadata": {},
   "outputs": [],
   "source": [
    "def grad(f):\n",
    "    g = autograd.grad\n",
    "    def grad_f(x, y):\n",
    "        return np.array([g(f, 0)(x, y), g(f, 1)(x, y)])\n",
    "    return grad_f"
   ]
  },
  {
   "cell_type": "code",
   "execution_count": null,
   "metadata": {},
   "outputs": [],
   "source": [
    "def J(f):\n",
    "    j = autograd.jacobian\n",
    "    def J_f(x, y):\n",
    "        return np.array([j(f, 0)(x, y), j(f, 1)(x, y)]).T\n",
    "    return J_f"
   ]
  },
  {
   "cell_type": "markdown",
   "metadata": {},
   "source": [
    "#### Exemples de référence"
   ]
  },
  {
   "cell_type": "code",
   "execution_count": null,
   "metadata": {},
   "outputs": [],
   "source": [
    "# Fonction utilitaire :\n",
    "\n",
    "def display_contour(f, x, y, levels):\n",
    "    X, Y = np.meshgrid(x, y)\n",
    "    Z = f(X, Y)\n",
    "    fig, ax = plt.subplots()\n",
    "    contour_set = plt.contour(\n",
    "        X, Y, Z, colors=\"grey\", linestyles=\"dashed\", \n",
    "        levels=levels \n",
    "    )\n",
    "    ax.clabel(contour_set)\n",
    "    plt.grid(True)\n",
    "    plt.xlabel(\"$x_1$\") \n",
    "    plt.ylabel(\"$x_2$\")\n",
    "    plt.gca().set_aspect(\"equal\")"
   ]
  },
  {
   "cell_type": "code",
   "execution_count": null,
   "metadata": {},
   "outputs": [],
   "source": [
    "# fonction quadratique \n",
    "\n",
    "def f1(x1, x2):\n",
    "    x1 = np.array(x1)\n",
    "    x2 = np.array(x2)\n",
    "    return 3.0 * x1 * x1 - 2.0 * x1 * x2 + 3.0 * x2 * x2 "
   ]
  },
  {
   "cell_type": "code",
   "execution_count": null,
   "metadata": {},
   "outputs": [],
   "source": [
    "# Fonction de Rosenbrock\n",
    "\n",
    "def f2(x1, x2):\n",
    "    return (x1 - 1)**2 + (x1 - x2**2)**2"
   ]
  },
  {
   "cell_type": "code",
   "execution_count": null,
   "metadata": {},
   "outputs": [],
   "source": [
    "# Fonction complexe\n",
    "\n",
    "def f3(x, y):\n",
    "    return np.sin(x + y) - np.cos(x * y) - 1 + 0.001 * (x * x + y * y) "
   ]
  },
  {
   "cell_type": "markdown",
   "metadata": {},
   "source": [
    "#### Analyse des ensembles de niveau"
   ]
  },
  {
   "cell_type": "markdown",
   "metadata": {},
   "source": [
    "##### Question 1  \n",
    "Soit $c \\in \\mathbb{R}$.\n",
    "On suppose que la fonction $f:\\mathbb{R}^2 \\to \\mathbb{R}$ est continue et vérifie\n",
    "$f(x_1, x_2) \\to +\\infty$ quand $\\|(x_1,x_2)\\| \\to +\\infty$.\n",
    "Que peut-on dire de l'ensemble de niveau $c$ de $f$ ?"
   ]
  },
  {
   "cell_type": "markdown",
   "metadata": {},
   "source": [
    "* L'ensemble de niveau *c* de f est l'image réciproque de $\\{c\\}$ (fermé) par $f$, qui est continue. Cet ensemble est donc **fermé**.\n",
    "* Comme $f$ est continue et $f(x_1, x_2) \\to +\\infty$ quand $\\|(x_1,x_2)\\| \\to +\\infty$, alors il existe $c_0 \\in \\mathbb{R}$ tel que pour tout $c \\geq c_0$ l'ensemble de niveau $c$ de $f$ est **non vide**. \n",
    "Le plus petit tel $c_0$ est alors le minimum global de la fonction $f$ sur $\\mathbb{R}^2$.\n",
    "\n"
   ]
  },
  {
   "cell_type": "markdown",
   "metadata": {},
   "source": [
    "Dans la suite la fonction $f$ est supposée continûment différentiable. On suppose également que le gradient $\\nabla f$ ne s'annule pas dans un voisinage du point $x_0 = (x_{10}, x_{20}) \\in \\mathbb{R}^2$. On pose alors\n",
    "$$\n",
    "p(x_1, x_2) := \\frac{\\partial_2 f(x_0)}{\\|\\nabla f(x_0)\\|} (x_1 - x_{10}) -\n",
    "\\frac{\\partial_1 f(x_0)}{\\|\\nabla f(x_0)\\|} (x_2 - x_{20}).\n",
    "$$\n",
    "\n"
   ]
  },
  {
   "cell_type": "markdown",
   "metadata": {},
   "source": [
    "##### Question 2\n",
    "Comment interpréter géométriquement le terme $p(x_1,x_2)$ ?"
   ]
  },
  {
   "cell_type": "markdown",
   "metadata": {},
   "source": [
    "Nous remarquons que $p$ prend la forme d'un déterminant entre les vecteurs $\\begin{pmatrix} x_1-x_{10} \\\\ x_2-x_{10} \\end{pmatrix}$ et $\\dfrac{1}{\\|\\nabla f(x_0)\\|} \\cdot \\nabla f(x_0)$.\n",
    "\n",
    "$p$ représente donc l'aire du parallélogramme formé par ces deux vecteurs; ainsi, quand on se déplace en s'éloignant de $x_0$ dans le sens du gradient, $p$ est nul, tandis qu'il est maximal (à distance fixée de $x_0$) si on se déplace de manière orthogonale au gradient, *i.e.* le long de la ligne de niveau $f(x_0)$.\n",
    "\n",
    "De plus, nous pouvons remarquer que $p$ n'a d'intérêt que localement, l'interprétation ci-dessus n'étant plus pertinente à une trop grande distance de $x_0$; en effet les variations de $f$ ne pourront pas être déduites de $\\nabla f(x_0)$."
   ]
  },
  {
   "cell_type": "code",
   "execution_count": null,
   "metadata": {},
   "outputs": [],
   "source": [
    "def p(f,x1,x2,x10,x20):\n",
    "    gdx0 = grad(f)(x10,x20)\n",
    "    norm = math.sqrt(gdx0[0]**2+gdx0[1]**2)\n",
    "    return (gdx0[1]/norm)*(x1-x10)-(gdx0[0]/norm)*(x2-x20)"
   ]
  },
  {
   "cell_type": "code",
   "execution_count": null,
   "metadata": {
    "scrolled": false
   },
   "outputs": [],
   "source": [
    "# on affiche f1 et p sur [-10,10]² :\n",
    "\n",
    "x = np.linspace(-10, 10, 50)\n",
    "y = np.linspace(-10, 10, 50)\n",
    "v_x, v_y = np.meshgrid(x, y)\n",
    "\n",
    "f = f3\n",
    "for f in [f1,f2,f3]:\n",
    "#     plt.label(f.__qualname__)\n",
    "    v_z_f = f(v_x, v_y)\n",
    "    v_z_p = p(f,v_x,v_y,-10.,10.)\n",
    "    v_z_zeros = np.zeros(np.shape(v_z_p))\n",
    "    \n",
    "    fig1 = plt.figure()\n",
    "    ax1 = Axes3D(fig1)\n",
    "    ax1.plot_surface(v_x, v_y, v_z_f, cmap='Blues')\n",
    "\n",
    "    fig2 = plt.figure()\n",
    "    ax2 = Axes3D(fig2)\n",
    "    ax2.plot_surface(v_x, v_y, v_z_p);\n",
    "    # ax2.plot_surface(v_x, v_y, v_z_zeros);\n",
    "#     %matplotlib inline"
   ]
  },
  {
   "cell_type": "markdown",
   "metadata": {},
   "source": [
    "##### Question 3\n",
    "\n",
    "Montrer que dans un voisinage ouvert de $x_0$, on peut paramétriser l'ensemble de niveau $c:=f(x_0)$ au moyen de $p(x_1,x_2),$ c'est-à-dire qu'il existe un $\\varepsilon > 0$ et une fonction (continûment différentiable) $\\gamma :\\left]-\\varepsilon,\\varepsilon \\right[ \\to \\mathbb{R}^2$ tels que dans un voisinage ouvert de $x_0,$ $f(x_1,x_2) = c$ si et seulement si $(x_1, x_2) = \\gamma(t)$ où $t = p(x_1, x_2)$."
   ]
  },
  {
   "cell_type": "markdown",
   "metadata": {},
   "source": [
    "Soit $g :\\mathbb{R}^2 \\times \\mathbb{R}  \\to \\mathbb{R}^2$ définie par\n",
    "$$ \\forall (x_1, x_2) \\in \\mathbb{R}^2, t \\in \\mathbb{R}, \\   \\   g(x_1,x_2,t) = \\begin{pmatrix} f(x_1, x_2)-c \\\\ p(x_1, x_2) - t \\end{pmatrix} $$\n",
    "\n",
    "$g$ est continûement différentiable car $f$ et $p$ le sont, et $\\partial_x g$ est inversible autour de $x_0 = (x_{10},x_{20})$ \n",
    "\n",
    "En effet, $$ \\partial_x{g}(x,t) = \\begin{pmatrix} \\partial_1{f}(x)   & \\partial_2{f}(x) \\\\  \\dfrac{\\partial_2 f(x_0)}{\\|\\nabla f(x_0)\\|} &  \\dfrac{-\\partial_1 f(x_0)}{\\|\\nabla f(x_0)\\|} \\end{pmatrix}$$ donc\n",
    "$$ \\textrm{det}(\\partial_x{g}(x,t)) = \\dfrac{-1}{\\|\\nabla f(x_0)\\|}(\\partial_1 f(x) \\partial_1 f(x_0) + \\partial_2 f(x) \\partial_2 f(x_0)) $$\n",
    "Comme $\\partial_1 f(x_0)^2 + \\partial_2 f(x_0))^2 > 0 $ , det($\\partial_x{g}(x,t)$) non nul dans un voisinage de $x_0$, dans lequel $\\partial_x g$ est donc inversible.\n",
    "\n",
    "De plus, $g(x_{10}, x_{20}, t_0=p(x_{10}, x_{20})) = 0$. \n",
    "\n",
    "Alors, d'après le théorème des fonctions implicites, il existe $\\left]-\\varepsilon,\\varepsilon \\right[$ voisinage ouvert de $t_0 = 0$, $U$ voisinage ouvert de $x_0$ et une unique fonction implicite $\\gamma : \\left]-\\varepsilon,\\varepsilon \\right[ \\to \\mathbb{R}^2$, continûement différentiable, tels que pour tous $x \\in U, t \\in \\left]-\\varepsilon,\\varepsilon \\right[$, \n",
    "\n",
    "$$ g(x,t) = 0 \\Leftrightarrow x = \\gamma(t)  $$\n",
    "$i.e$\n",
    "$$f(x_1, x_2) = c  \\textrm{ et }  t = p(x_1, x_2)  \\Leftrightarrow (x_1,x_2) = \\gamma(t) $$\n"
   ]
  },
  {
   "cell_type": "markdown",
   "metadata": {},
   "source": [
    "##### Question 4\n",
    "\n",
    "Montrer que pour tout $t \\in \\left]-\\varepsilon, \\varepsilon \\right[$ :\n",
    "\n",
    "  - le vecteur $\\gamma'(t)$ est non nul (il fournit donc une tangente au chemin $\\gamma$),\n",
    "\n",
    "  - est orthogonal à $\\nabla f(\\gamma(t))$."
   ]
  },
  {
   "cell_type": "markdown",
   "metadata": {},
   "source": [
    "Le théorème des fonctions implicites nous donne de plus la différentielle de $\\gamma$ pour tout $t \\in  \\left]-\\varepsilon, \\varepsilon \\right[$ :\n",
    "$$ \\gamma'(t) = -(\\partial_x g(x,t))^{-1} \\cdot  \\partial_t{g}(x,t)    $$\n",
    "Or, $ \\partial_x{g}(x,t) = \\begin{pmatrix} \\partial_1{f}(x)   & \\partial_2{f}(x) \\\\  \\dfrac{\\partial_2 f(x_0)}{\\|\\nabla f(x_0)\\|} &  \\dfrac{-\\partial_1 f(x_0)}{\\|\\nabla f(x_0)\\|} \\end{pmatrix}$, donc \n",
    "$-(\\partial_x g(x,t))^{-1} = \\dfrac{-1}{\\text{det}(\\partial_x{g}(x,t))} \\begin{pmatrix} \\dfrac{-\\partial_1 f(x_0)}{\\|\\nabla f(x_0)\\|}   & -\\partial_2{f}(x) \\\\  -\\dfrac{\\partial_2 f(x_0)}{\\|\\nabla f(x_0)\\|} & \\partial_1{f}(x)  \\end{pmatrix}$,\n",
    "\n",
    "et $\\partial_t{g}(x,t) = \\begin{pmatrix} 0 \\\\ -1 \\end{pmatrix} $ . \n",
    "\n",
    "Donc $\\gamma'(t) = \\dfrac{-1}{\\text{det}(\\partial_x{g}(x,t))} \\begin{pmatrix} \\partial_2{f}(x) \\\\ -\\partial_1{f}(x) \\end{pmatrix} $\n",
    "\n",
    "Alors :\n",
    "\n",
    " - Comme le gradient de $f$ est non nul, $\\gamma'(t)$ l'est aussi. \n",
    " - $\\gamma'(t) \\cdot \\nabla f(x) = 0$, $i.e$ $\\gamma'(t)$ est orthogonal à $\\nabla f(x)$"
   ]
  },
  {
   "cell_type": "markdown",
   "metadata": {},
   "source": [
    "### Construction des courbes de niveau"
   ]
  },
  {
   "cell_type": "markdown",
   "metadata": {},
   "source": [
    "#### Méthode de Newton\n",
    "\n",
    "Afin de trouver des points sur des courbes de niveau, on souhaite implémenter un algorithme de résolution des équations de la forme $F(x) = 0$ où $F: \\mathbb{R}^2 \\to \\mathbb{R}^2$, par la méthode de Newton, amorcée par un point de référence $x_0 \\in \\mathbb{R}^2$.\n",
    "\n",
    "L'implémentation prendra la forme générale donnée ci-dessous. L'appel `x, y = Newton(F, x0, y0, eps, N)` devra renvoyer le couple des coordonnées d'un point $(x, y)$ qui est une solution approchée de $F(x,y)=0$ à proximité de $(x_0, y_0)$. La qualité de l'approximation produite est déterminée par le réel positif $\\varepsilon > 0$, une approximation de la distance entre le point $(x,y)$ renvoyé par la fonction et la solution exacte. L'algorithme itératif s'interrompra si aucune approximation de la précision souhaitée n'a été trouvée en $N$ étapes. "
   ]
  },
  {
   "cell_type": "markdown",
   "metadata": {},
   "source": [
    "\n",
    "\n",
    "\n"
   ]
  },
  {
   "cell_type": "markdown",
   "metadata": {},
   "source": [
    "##### Question 5\n",
    "\n",
    "L'application à laquelle nous destinons la fonction `Newton` demande-t-elle une grande précision ?\n",
    "Choisir une valeur de `eps` qui semble raisonnable et justifier l'ordre de grandeur choisi."
   ]
  },
  {
   "cell_type": "code",
   "execution_count": null,
   "metadata": {},
   "outputs": [],
   "source": [
    "N = 100\n",
    "eps = 1e-8\n",
    "\"\"\"\n",
    "On veut une valeur suffisamment précise pour avoir un tracé propre, \n",
    "mais pas trop car on cherche seulement un tracé et non une résolution\n",
    "de l'équation avec une grande précision.\n",
    "De plus, la méthode de Newton est à convergence rapide ce qui\n",
    "autorise de mettre une valeur relativement faible.\n",
    "\"\"\";"
   ]
  },
  {
   "cell_type": "markdown",
   "metadata": {},
   "source": [
    "###### Tâche 1\n",
    "\n",
    "Implémenter la fonction `Newton` en complétant le canevas ci-dessous"
   ]
  },
  {
   "cell_type": "code",
   "execution_count": null,
   "metadata": {},
   "outputs": [],
   "source": [
    "def Newton(F, x0, y0, eps=eps, N=N):\n",
    "    \n",
    "    for i in range(N): \n",
    " \n",
    "        # on calcule la jacobienne de F au point x0,y0\n",
    "    \n",
    "        jac0 = J(F)(x0,y0)\n",
    "        \n",
    "        # on calcule directement x, y par une formule analogue\n",
    "        # à celle de la méthode de Newton de R -> R\n",
    "\n",
    "        x,y = np.array([x0,y0]) - np.dot(np.linalg.inv(jac0),F(x0,y0))\n",
    "\n",
    "        if np.sqrt((x - x0)**2 + (y - y0)**2) <= eps: \n",
    "            # cela signifie qu'on a approximé à la précision voulue le point cherché\n",
    "            # on retourne donc ses coordonnées \n",
    "            return x, y\n",
    "        \n",
    "        x0, y0 = x, y    # on prend comme nouveau point de départ le point obtenu\n",
    " \n",
    "    else:  \n",
    "        raise ValueError(f\"no convergence in {N} steps.\")\n",
    "        "
   ]
  },
  {
   "cell_type": "markdown",
   "metadata": {},
   "source": [
    "###### Tâche 2\n",
    "\n",
    "Testez votre implémentation de la fonction `Newton` ! On suggère par exemple de l'utiliser pour chercher un point $(x_1, x_2)$ de la ligne de niveau $0.8$ de $f_1$ (cf. Exemples de référence) qui vérifie en outre $x_1 = x_2$ en utilisant le point initial $(0.8, 0.8)$. Puis de faire varier le point initial, la contrainte supplémentaire, etc. et de représenter graphiquement les résultats."
   ]
  },
  {
   "cell_type": "code",
   "execution_count": null,
   "metadata": {},
   "outputs": [],
   "source": [
    "\"\"\" \n",
    "Comme documenté dans Newton(), la fonction F est de R² dans R² \n",
    "Ainsi elle va renvoyer:\n",
    "- suivant x : f1(x,y)-0.8 pour obtenir la valeur de la ligne de niveau\n",
    "- suivant y : x-y ici pour avoir x = y\n",
    "\"\"\"\n",
    "c = 0.8\n",
    "x1,x2  =  Newton(lambda x,y: np.array([f1(x,y)-c,x-y]), 0.8, 0.8)\n",
    "print(\"res =   \",x1,x2)\n",
    "f1(x1,x2)"
   ]
  },
  {
   "cell_type": "markdown",
   "metadata": {},
   "source": [
    "#### Génération des points\n",
    "\n",
    "##### Question 6 \n",
    "Comment, en partant d'un point de référence $(x_0, y_0)$ tel que $f(x_0, y_0)=c$, peut-on générer avec la méthode de Newton un point $(x_1, y_1)$ également tel que $f(x_1, y_1) = c$, mais à une distance $\\delta > 0$ de $(x_0, y_0)$ et qui soit \"à droite\" quand on est en $(x_0, y_0)$ et qu'on regarde dans la direction de $\\nabla f(x_0, y_0)$ ? \n"
   ]
  },
  {
   "cell_type": "markdown",
   "metadata": {},
   "source": [
    "On peut commencer par se déplacer de $\\delta$ \"vers la droite\" de manière orthogonale au gradient, en ajoutant $\\dfrac{\\delta}{\\|\\nabla f(x_0, y_0)\\|} \\begin{pmatrix} \\partial_2 f(x_0, y_0) \\\\ -\\partial_1 f(x_0, y_0) \\end{pmatrix} $  à $(x_0, y_0)$.\n",
    "Le gradient étant orthogonal aux lignes de niveau, au premier ordre on s'est déplacé dans la bonne direction.\n",
    "Il suffit ensuite d'utiliser la méthode de Newton avec ce point comme point de départ et la distance à $(x_0, y_0)$ comme contrainte supplémentaire.\n"
   ]
  },
  {
   "cell_type": "markdown",
   "metadata": {},
   "source": [
    "###### Tâche 3\n",
    "\n",
    "Implémenter la fonction `level_curve` qui répète ce procédé $N-1$ fois et renvoie un tableau NumPy de taille `(2, N)` contenant les coordonnées des points correspondants, puis valider graphiquement le résultat au moyen des exemples de référence."
   ]
  },
  {
   "cell_type": "code",
   "execution_count": null,
   "metadata": {},
   "outputs": [],
   "source": [
    "nb_points = 100\n",
    "def level_curve(f, x0, y0, delta=0.1, N=nb_points, eps=eps):\n",
    "    c = f(x0, y0)  # la valeur de la ligne de niveau\n",
    "    \n",
    "    res = np.zeros((2,N))\n",
    "    res[0,0] = x0\n",
    "    res[1,0] = y0\n",
    "    for i in range(N-1):\n",
    "        # on change de point de référence\n",
    "        x0, y0 = res[:,i]\n",
    "        # on calcule le gradient en ce point\n",
    "        g = grad(f)(x0, y0)\n",
    "        # ainsi que sa norme\n",
    "        normg = np.sqrt(g[0]**2+g[1]**2)\n",
    "        # que l'on utilise pour avoir le nouveau point de départ pour la méthode de Newton\n",
    "        # en se plaçant \"à droite\" de (x0,y0) en regardant \"dans le sens\" du gradient\n",
    "        x, y = x0 + delta * (g[1]/normg), y0 - delta * (g[0]/normg) \n",
    "        # on définit F qui va servir dans Newton()\n",
    "        F = lambda x,y : np.array([f(x,y)-c , np.sqrt((x-x0)**2 + (y-y0)**2) - delta]) \n",
    "        # ici la contrainte est que la distance au point précédent doit être de delta\n",
    "        # puis on calcule la position du nouveau point de la ligne de niveau\n",
    "        try:\n",
    "            Newton(F, x, y)\n",
    "            res[:, i+1] = np.array(Newton(F, x, y))\n",
    "        except Exception as exc:\n",
    "            print (f\"{exc}\") \n",
    "        \n",
    "    return res\n",
    "\n",
    "\n",
    "f = lambda x,y : f1(x,y)\n",
    "c = 0.8\n",
    "x0, y0 = Newton(lambda x,y: np.array([f(x,y)-c,x-y]), 0.8, 0.8)\n",
    "res = level_curve(f, x0, y0)\n",
    "\n",
    "x = np.linspace(-1, 1, 50)\n",
    "y = np.linspace(-1, 1, 50)\n",
    "v_x, v_y = np.meshgrid(x, y)\n",
    "v_z_f = f(v_x, v_y)  \n",
    "\n",
    "fig1 = plt.figure()\n",
    "ax1 = Axes3D(fig1)\n",
    "ax1.plot_surface(v_x, v_y, v_z_f, cmap='Blues')\n",
    "x_ligne = res[0,:]\n",
    "y_ligne = res[1,:] \n",
    "z_ligne = (f(res[0,0], res[0,1]) ) * np.ones((nb_points,))\n",
    "\n",
    "ax1.plot(x_ligne, y_ligne, z_ligne, color = 'r', fillstyle = 'full',linewidth = 10, linestyle = '-', in_layout = False);\n",
    "\n"
   ]
  },
  {
   "cell_type": "code",
   "execution_count": null,
   "metadata": {},
   "outputs": [],
   "source": [
    "#autre vérification graphique, en utilisant display_contour\n",
    "\n",
    "plt.figure()\n",
    "display_contour(f, x, y, 10)\n",
    "plt.plot(x_ligne, y_ligne)"
   ]
  },
  {
   "cell_type": "markdown",
   "metadata": {},
   "source": [
    "#### Bouclage et auto-intersection\n",
    "\n",
    "L'algorithme précédent est malheureusement susceptible de faire plusieurs fois le tour d'une courbe de niveau donnée. \n",
    "\n",
    "##### Question 7 + Tâche 4\n",
    "\n",
    "Proposer une nouvelle implémentation de `level_curve` qui arrête l'algorithme et renvoie les points connus quand le segment formé par les deux derniers points produits intersecte l'un des segments produits auparavant. En étant (raisonnablement) optimiste, doit-on prendre la peine de tester l'intersection du dernier segment avec tous les segments déjà produits (ce qui prend du temps ...) ou juste avec le premier ? Pour répondre à cette question, on pourra se demander si les courbes de niveau similaires à celle de la fonction de Rosenbrock passant par le point $(0.5, 0)$ (cf. Exemples de référence) -- c'est-à-dire \"auto-intersectantes\" -- sont fréquentes ou rares et pourquoi."
   ]
  },
  {
   "cell_type": "markdown",
   "metadata": {},
   "source": [
    "Si la courbe de niveau est \"auto-intersectante\", le gradient est nul à cet endroit, (et donc très faible autour) et donc notre méthode de Newton, ainsi que le choix du point de départ suivant, ne fonctionnent plus... *(soit on décide que du coup ça rentre pas dans les cas d'usage, on espère qu'on voudra jamais ces courbes de niveau, soit faut faire un truc plus subtil, par exemple dans le except pour relancer le programme plus loin, là où le gradient est suffisamment grand. Je sais pas si c'est le but de la question...)*\n",
    "\n",
    "Ces cas sont donc déjà détectés par le `try` dans `level_curve`, et on n'a donc pas besoin de tester avec tous les segments déjà produits, mais seulement avec le premier pour savoir si on a fait le tour.\n"
   ]
  },
  {
   "cell_type": "code",
   "execution_count": null,
   "metadata": {
    "scrolled": false
   },
   "outputs": [],
   "source": [
    "\n",
    "nb_points = 100\n",
    "delta = 0.1\n",
    "def level_curve2(f, x0, y0, delta= delta, N=nb_points, eps=eps):\n",
    "    c = f(x0, y0) \n",
    "    \n",
    "    res = np.zeros((2,N))\n",
    "    res[0,0] = x0\n",
    "    res[1,0] = y0\n",
    "    for i in range(N-1):\n",
    "        x0, y0 = res[:,i]\n",
    "        g = grad(f)(x0, y0)\n",
    "        normg = np.sqrt(g[0]**2+g[1]**2)\n",
    "        if np.abs(normg) < 1e-16:\n",
    "            print(\"GRADIENT NUL\")\n",
    "            raise ValueError(\"le gradient est nul\")\n",
    "\n",
    "        x, y = x0 + delta * (g[1]/normg), y0 - delta * (g[0]/normg) \n",
    "        F = lambda x,y : np.array([f(x,y)-c , np.sqrt((x-x0)**2 + (y-y0)**2) - delta]) \n",
    "        try:\n",
    "            res[:, i+1] = np.array(Newton(F, x, y))\n",
    "        except Exception as exc:\n",
    "            print (i, f\"   {exc}\") \n",
    "\n",
    "        \"\"\"TEST D'ARRÊT      marche à peu près\"\"\"\n",
    "        if np.sqrt((res[0,i+1] - res[0,0])**2 + (res[1,i+1] - res[1,0])**2) <= delta/2: \n",
    "            # cela signifie que l'ont est revenu très près du point de départ \n",
    "            # on a alors fait une boucle complète\n",
    "            # on supprime la partie avec des zéros de res et on renvoie\n",
    "            res = np.delete(res, slice(i+2, None), 1)\n",
    "            print(res)\n",
    "            print(i)\n",
    "            print(\"AAAAAAAAAAAA\")\n",
    "            return res     \n",
    "\n",
    "    return res\n",
    "\n",
    "\n",
    "f = lambda x,y : f1(x,y)\n",
    "c = 0.5\n",
    "x0, y0 = Newton(lambda x,y: np.array([f(x,y)-c,x-y]), 0.8, 0.8)\n",
    "#x0, y0 = 0.5, 0\n",
    "res = level_curve2(f, x0, y0)\n",
    "\n",
    "x = np.linspace(-1, 1, 50)\n",
    "y = np.linspace(-1, 1, 50)\n",
    "v_x, v_y = np.meshgrid(x, y)\n",
    "v_z_f = f(v_x, v_y)  \n",
    "\n",
    "fig1 = plt.figure()\n",
    "ax1 = Axes3D(fig1)\n",
    "# ax1.plot_surface(v_x, v_y, v_z_f, cmap='Blues')\n",
    "x_ligne = res[0,:]\n",
    "y_ligne = res[1,:] \n",
    "z_ligne = (f(res[0,0], res[0,1]) ) * np.ones((len(res[1]),))\n",
    "\n",
    "ax1.plot(x_ligne, y_ligne, z_ligne, color = 'r', fillstyle = 'full',linewidth = 1, linestyle = '-', in_layout = False);\n"
   ]
  },
  {
   "cell_type": "markdown",
   "metadata": {},
   "source": [
    "###### Tâche 5\n",
    "\n",
    "Valider graphiquement le résultat au moyen des exemples de référence."
   ]
  },
  {
   "cell_type": "code",
   "execution_count": null,
   "metadata": {},
   "outputs": [],
   "source": []
  },
  {
   "cell_type": "markdown",
   "metadata": {},
   "source": [
    "### Post-traitement"
   ]
  },
  {
   "cell_type": "markdown",
   "metadata": {},
   "source": [
    "Pour améliorer le rendu des courbes de niveau, il est tentant de diminuer la distance $\\delta$ entre deux points consécutifs. Malheureusement, dans des cas d'usage réalistes, il est fréquent que la fonction $f$ soit beaucoup plus complexe que les exemples qui nous avons considérés. Le nombre de fois où cette fonction est appelée est alors le principal facteur qui détermine le temps de calcul des lignes de niveau. On cherche donc dans cette section à améliorer la qualité visuelle des résultats sans faire exploser le nombre d'évaluation de la fonction $f$. On va chercher à résoudre ce problème en reliant les points successifs par des chemins plus \"flexibles\" que des segments de droites, ayant le potentiel de mieux coller aux lignes de niveau."
   ]
  },
  {
   "cell_type": "markdown",
   "metadata": {},
   "source": [
    "#### Interpolation \n",
    "\n",
    "##### Question 8\n",
    "\n",
    "Soit $P_1$ et $P_2$ deux points du plan et $u_1$ et $u_2$ deux vecteurs du plan non nuls.\n",
    "On cherche à produire un chemin $\\gamma: [0,1] \\to \\mathbb{R}^2$ continûment différentiable, joignant $P_1$ et $P_2$ ($\\gamma(0) = P_1$ et $\\gamma(1) = P_2$), tel que $\\gamma'(0)$ soit dans la même direction et le même sens que $u_1$ et $\\gamma'(1)$ soit dans la même direction et le même sens que $u_2$.\n",
    "\n",
    "On recherche une telle solution sous la forme\n",
    "$\\gamma(t) = (x(t), y(t))$ où \n",
    "$$\n",
    "x(t) = a + bt + ct^2 \\; \\mbox{ et } \\; y(t) = d + et + ft^2\n",
    "$$\n",
    "et les paramètres réels $a, b, c, d, e, f$ sont à déterminer(*).\n",
    "\n",
    "\n",
    "Déterminer les coefficients $a, b, c, d, e, f$ solutions de ce problème quand ils existent.\n",
    "Expliciter si nécessaire les conditions que doivent remplir $P_1$, $P_2$, $u_1$ et $u_2$ pour qu'une solution existe.\n"
   ]
  },
  {
   "cell_type": "markdown",
   "metadata": {},
   "source": [
    "On adopte les notations suivantes : $ P_1 = \\begin{pmatrix} x_1 \\\\ y_1 \\end{pmatrix} $, $ P_2 = \\begin{pmatrix} x_2 \\\\ y2 \\end{pmatrix} $, $\\gamma(t) = \\begin{pmatrix} x(t) \\\\ y(t) \\end{pmatrix} $, \n",
    "$u_1  = \\begin{pmatrix} x_{u_1} \\\\ y_{u_1} \\end{pmatrix} $, $u_2  = \\begin{pmatrix} x_{u_2} \\\\ y_{u_2} \\end{pmatrix} $.\n",
    "\n",
    "On veut alors : $\\gamma(0) = P_1$ et $\\gamma(1) = P_2$.\n",
    "\n",
    "\n",
    "De plus, on veut que $\\langle \\gamma'(0), u_1 \\rangle >0 $ et que $\\langle \\gamma'(1), u_2 \\rangle >0 $ afin qu'ils soient dans le même \"sens\". Pour ce qui est de la direction, il faut alors vérifier que le produit scalaire est maximal, $i.e$ qu'il vaut le produit des normes (d'après l'inégalité de Cauchy-Schwarz dans un espace euclidien).\n",
    "\n",
    "Néanmoins, cela revient à  dire que $ \\gamma'(0)$ et  $u_1$ sont positivement colinéaires, et de même pour $\\gamma'(1)$ et $u_2$.\n",
    "\n",
    "On cherche $\\gamma$ solution du problème sous la forme : $\\gamma(t) = \\begin{pmatrix} a + bt + ct^2 \\\\ d + et + ft^2 \\end{pmatrix}$.\n",
    "\n",
    "On obtient ainsi les équations suivantes : \n",
    "<!-- \\left \\{ \\right\\} -->\n",
    " $$  \\begin{cases}\n",
    "           a &=& x_1 \\\\\n",
    "           d& =& y_1 \\\\\n",
    "           a + b + c &=& x_2 \\\\\n",
    "           d + e + f &=& y_2 \\\\\n",
    "           b& =& k_1 \\cdot x_{u_1} &\\text{  avec  } k_1>0\\\\\n",
    "           e& =&k_1 \\cdot y_{u_1}\\\\\n",
    "           b+2c& =& k_2 \\cdot x_{u_2} &\\text{  avec  } k_2>0\\\\\n",
    "           e+2f& =&k_2 \\cdot y_{u_2} \\\\\n",
    "%            b \\cdot x_{u_1} + e \\cdot y_{u_1} > 0 \\\\\n",
    "%            (b + 2c)\\cdot x_{u_2} + (e + 2f) \\cdot y_{u_2} > 0\\\\\n",
    "%            (b \\cdot x_{u_1} + e \\cdot y_{u_1})^2 = (b^2 + e^2) \\cdot (x_{u_1}^2 + y_{u_1}^2)\\\\\n",
    "%            ((b + 2c)\\cdot x_{u_2})^2 + ((e + 2f) \\cdot y_{u_2})^2 ) = ((b+2c)^2 +(e+2f)^2)\\cdot (x_{u_2}^2 + y_{u_2}^2)\n",
    "           \\end{cases} $$\n",
    "           \n",
    "On obtient un système de 8 équations à 8 inconnues, comme nous le voyons de manière plus claire :\n",
    "$$  \\begin{cases} %on doit avoir 16 &\n",
    "           &a&&&&&&&&&&&&&&&=& x_1 \\\\\n",
    "           &&&&&&&d&&&&&&&&& =& y_1 \\\\\n",
    "           &a&+& b &+& c&&&&&&&&&&&=& x_2 \\\\\n",
    "           &&&&&&&d &+& e &+& f &&&&&=& y_2 \\\\\n",
    "           &&&b &&&&&-&&&&&  x_{u_1} \\cdot k_1 &&&=& 0 &\\text{  avec  } k_1>0\\\\\n",
    "           &&&&&&&&&e&&+& &  y_{u_1} \\cdot k_1 &&&= &0\\\\\n",
    "           &&&b&+&2c& & &&&-&&&&& x_{u_2} \\cdot k_2 &=&0 &\\text{  avec  } k_2>0\\\\\n",
    "           &&&&&&&&&e&+&2f& &-& &y_{u_2} \\cdot k_2 &= &0 \\\\\n",
    "%            b \\cdot x_{u_1} + e \\cdot y_{u_1} > 0 \\\\\n",
    "%            (b + 2c)\\cdot x_{u_2} + (e + 2f) \\cdot y_{u_2} > 0\\\\\n",
    "%            (b \\cdot x_{u_1} + e \\cdot y_{u_1})^2 = (b^2 + e^2) \\cdot (x_{u_1}^2 + y_{u_1}^2)\\\\\n",
    "%            ((b + 2c)\\cdot x_{u_2})^2 + ((e + 2f) \\cdot y_{u_2})^2 ) = ((b+2c)^2 +(e+2f)^2)\\cdot (x_{u_2}^2 + y_{u_2}^2)\n",
    "           \\end{cases} $$\n",
    "           \n",
    " \n",
    "           \n",
    "Ce système linéaire peut donc être représenté sous forme de matrice, avec $S$ la matrice du système $X$ les variables et $B$ le second membre : \n",
    "\n",
    "$$S = \\begin{pmatrix}\n",
    "1&0&0&0&0&0&0&0\\\\\n",
    "0&0&0&1&0&0&0&0\\\\\n",
    "1&1&1&0&0&0&0&0\\\\\n",
    "0&0&0&1&1&1&0&0\\\\\n",
    "0&1&0&0&0&0&-x_{u_1}&0\\\\\n",
    "0&0&0&0&1&0&-y_{u_1}&0\\\\\n",
    "0&1&2&0&0&0&0&-x_{u_2}\\\\\n",
    "0&0&0&0&1&2&0&-y_{u_2}\n",
    "\\end{pmatrix} ;  X =  \\begin{pmatrix}\n",
    "a\\\\ b\\\\ c\\\\d\\\\e\\\\f\\\\k_1\\\\k_2\n",
    "\\end{pmatrix} \\text{ et } B= \\begin{pmatrix}\n",
    "x_1\\\\y_1\\\\x_2\\\\y_2\\\\0\\\\0\\\\0\\\\0\n",
    "\\end{pmatrix}.$$\n",
    "\n",
    "\n",
    "On a alors : $S \\cdot X = B$.\n",
    "\n",
    "Ainsi, pour savoir si le système admet des solutions, on calcule le déterminant de S (en développant suivant les lignes) et on obtient que : $$\\begin{align} \\text{det}(S)&= x_{u_2} \\cdot y_{u_1} - x_{u_1} \\cdot y_{u_2}\\\\ \n",
    "                        &=\\text{det}(\\begin{pmatrix} x_{u_2}\\\\y_{u_2}\\end{pmatrix},\\begin{pmatrix} x_{u_1}\\\\y_{u_1}\\end{pmatrix}) \\\\\n",
    "                &=\\text{det}(u_2,u_1).\\end{align}$$\n",
    "\n",
    "Ce résultat est très intéressant. En effet, il nous donne que si $u_1$ et $u_2$ sont colinéaires, alors le système ne possède pas de solutions et donc $\\gamma$ n'est pas définie telle que souhaitée. Ce résultat est logique car, graphiquement, il est impossible que les tangentes à la \"base\" d'une fonction paramétrée par des paraboles soient parallèles. On exclut donc ces situations à l'exception d'une seule : celui où $u_1$ et $u_2$ sont également colinéaires au vecteur $\\overrightarrow{P_1P_2}$. On sait alors qu'on peut relier les deux points par un segment qui se paramétrise de manière simple.\n",
    "\n",
    "Néanmoins, dans tous ces cas, la seule solution qui s'offre à nous est de paramétrer l'arc par un segment $[P_1P_2]$ de la manière suivante : $\\gamma(t)=  \\begin{pmatrix} x_1 +(x_2-x_1)\\   t  \\\\ y_1 + (y_2-y_1)\\  t\\end{pmatrix}$.\n",
    "\n",
    "Pour les cas où des solutions existent, on les obtient simplement en inversant la matrice $S$.\n"
   ]
  },
  {
   "cell_type": "markdown",
   "metadata": {},
   "source": [
    "###### Tâche 6\n",
    "\n",
    "Implémenter la solution sous la forme d'une fonction `gamma` dont les arguments sont `t`, `P1`, `P2`, `u1` et `u2` et qui renvoie le ou les points $\\gamma(t)$ associés. Lorsqu'il n'existe pas de chemin de la forme souhaitée pour les paramètres `P1`, `P2`, `u1` et `u2`, on utilisera comment remplacement de $\\gamma$ un chemin rectiligne interpolant linéairement les points $P_1$ et $P_2$.\n",
    "\n",
    "Pour des raisons de performance, on vectorisera cette fonction par rapport à `t` : \n",
    "\n",
    "  - en acceptant comme argument `t` des tableaux NumPy (monodimensionels) de nombres flottants et en renvoyant alors un tableau de taille `(2, len(t))` flottants décrivant l'abscisse et l'ordonnée des `len(t)` points $\\gamma(t)$ correspondant,\n",
    "\n",
    "  - en appliquant directement opérateurs et fonctions mathématiques aux tableaux NumPy, sans utiliser de boucle `for`,\n",
    "  \n",
    "On validera ensuite graphiquement l'implémentation sur un exemple où l'on représentera les point $P_1$ et $P_2$, les tangentes associées et le chemin $\\gamma$ correspondant.\n",
    "\n"
   ]
  },
  {
   "cell_type": "code",
   "execution_count": null,
   "metadata": {},
   "outputs": [],
   "source": [
    "\n",
    "def det_deux_vecteurs(u, v):\n",
    "    # u = |x_1   , v = |x_2\n",
    "    #     |y_1         |y_2\n",
    "    # det(u, v) = x_1.y_2 - x_2.y_1\n",
    "    \n",
    "    return u[0]*v[1] - u[1]*v[0]\n",
    "    \n",
    "\n",
    "def gamma(t, P1, P2, u1, u2):\n",
    "    # P1, P2, u1, u2 sont des np.array([[x],[y]])\n",
    "    # t est soit un float soit un np.array([.,...,.])\n",
    "    \n",
    "    if det_deux_vecteurs(u1, u2):  \n",
    "        # det est alors positif, les vecteurs ne sont pas colinéaires\n",
    "        # il existe donc une unique solution\n",
    "        \n",
    "        S = np.array([[1,0,0,0,0,0,0,0],[0,0,0,1,0,0,0,0],[1,1,1,0,0,0,0,0],[0,0,0,1,1,1,0,0],[0,1,0,0,0,0,-float(u1[0]),0],[0,0,0,0,1,0,-float(u1[1]),0],[0,1,2,0,0,0,0,-float(u2[0])],[0,0,0,0,1,2,0,-float(u2[1])]])\n",
    "        B = np.array([float(P1[0]),float(P1[1]),float(P2[0]),float(P2[1]),0,0,0,0]).reshape(8,1)\n",
    "#         print(S)\n",
    "#         print(np.linalg.det(S))\n",
    "#         print(B)\n",
    "#         np.linalg.inv(S)\n",
    "        X = np.dot(np.linalg.inv(S),B)\n",
    "        print(X)\n",
    "        if X[6][0] < 0 or X[7][0] <0 : # alors k1<0 ou k2<0 \n",
    "            print(\"ici\")\n",
    "            #on a alors obtenu un chemin qui ne convient pas puisqu'il part \"dans l'autre sens\"\n",
    "            return P1 + (P2-P1)*t  # chemin rectiligne\n",
    "        # on renvoie alors gamma:\n",
    "        X.resize(8)\n",
    "        \n",
    "        a, b, c, d, e, f, k1, k2 = X\n",
    "        print(\"là\")\n",
    "        print(np.array([[a, b, c], [d, e, f]]))\n",
    "        print(np.shape(np.dot(np.array([[a, b, c], [d, e, f]]),np.array([t**0, t,t**2]))))\n",
    "        return np.dot(np.array([[a, b, c], [d, e, f]]),np.array([t**0, t,t**2])) # gamma, unique\n",
    "    \n",
    "    return P1 + (P2-P1)*t  # chemin rectiligne\n",
    "\n",
    "t = np.linspace(0,1,50)\n",
    "\"\"\"CA MARCHE, TODO : AFFICHAGE GRAPHIQUE\"\"\";\n",
    "gamma(t, np.array([[0],[0]]), np.array([[1],[1]]), np.array([[9],[3]]),np.array([[2],[7]]))\n"
   ]
  },
  {
   "cell_type": "code",
   "execution_count": null,
   "metadata": {},
   "outputs": [],
   "source": [
    "def afficher_gamma(t, P1, P2, u1, u2):\n",
    "    g = gamma(t, P1, P2, u1, u2)  #faudra penser à enlever les print dans gamma\n",
    "    plt.plot(g[0,:], g[1,:])\n",
    "    \n",
    "afficher_gamma(t, np.array([[0],[0]]), np.array([[1],[1]]), np.array([[9],[3]]),np.array([[2],[7]]))"
   ]
  },
  {
   "cell_type": "markdown",
   "metadata": {},
   "source": [
    "#### Intégration\n",
    "\n",
    "###### Tâche 7\n",
    "Intégrer le mécanisme d'interpolation dans (une nouvelle version de) la fonction `level_curve` qui accepte un nouveau paramètre entier `oversampling` (sur-échantillonnage) tel que :\n",
    "\n",
    "  - si `oversampling == 1`, la fonction `level_curve` fonctionne comme précédemment,\n",
    "\n",
    "  - si `oversampling > 1`, la fonction `level_curve` introduit dans son résultat `oversampling - 1` points supplémentaires obtenus par interpolations entre chaque couple de points consécutifs obtenus par la méthode de Newton."
   ]
  },
  {
   "cell_type": "code",
   "execution_count": null,
   "metadata": {},
   "outputs": [],
   "source": []
  },
  {
   "cell_type": "markdown",
   "metadata": {},
   "source": [
    "###### Tâche 8\n",
    "\n",
    "Valider graphiquement le résultat au moyen des exemples de référence."
   ]
  },
  {
   "cell_type": "code",
   "execution_count": null,
   "metadata": {},
   "outputs": [],
   "source": []
  }
 ],
 "metadata": {
  "celltoolbar": "Format de la Cellule Texte Brut",
  "kernelspec": {
   "display_name": "Python 3",
   "language": "python",
   "name": "python3"
  },
  "language_info": {
   "codemirror_mode": {
    "name": "ipython",
    "version": 3
   },
   "file_extension": ".py",
   "mimetype": "text/x-python",
   "name": "python",
   "nbconvert_exporter": "python",
   "pygments_lexer": "ipython3",
   "version": "3.8.3-final"
  }
 },
 "nbformat": 4,
 "nbformat_minor": 2
}